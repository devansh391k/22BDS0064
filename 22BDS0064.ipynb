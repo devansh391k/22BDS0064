{
  "nbformat": 4,
  "nbformat_minor": 0,
  "metadata": {
    "colab": {
      "provenance": [],
      "include_colab_link": true
    },
    "kernelspec": {
      "name": "python3",
      "display_name": "Python 3"
    },
    "language_info": {
      "name": "python"
    }
  },
  "cells": [
    {
      "cell_type": "markdown",
      "metadata": {
        "id": "view-in-github",
        "colab_type": "text"
      },
      "source": [
        "<a href=\"https://colab.research.google.com/github/devansh391k/22BDS0064/blob/main/22BDS0064.ipynb\" target=\"_parent\"><img src=\"https://colab.research.google.com/assets/colab-badge.svg\" alt=\"Open In Colab\"/></a>"
      ]
    },
    {
      "cell_type": "markdown",
      "source": [
        "**DEVANSH SHUKLA (22BDS0064)**"
      ],
      "metadata": {
        "id": "vrzoXRhSmO5f"
      }
    },
    {
      "cell_type": "code",
      "source": [
        "import pandas as pd\n",
        "import numpy as np\n",
        "import seaborn as sns\n",
        "import matplotlib.pyplot as plt\n",
        "import missingno as msno\n",
        "\n",
        "# 1. Load the dataset\n",
        "df = pd.read_csv(\"Medicaid1986.csv\")\n",
        "\n",
        "# DATA EXPLORATION\n",
        "# 2. Print the entire dataset\n",
        "print(df)\n"
      ],
      "metadata": {
        "id": "dKUlKeFJmTpQ",
        "outputId": "34e04589-c2de-478d-edc0-8cdc30f8b069",
        "colab": {
          "base_uri": "https://localhost:8080/"
        }
      },
      "execution_count": 3,
      "outputs": [
        {
          "output_type": "stream",
          "name": "stdout",
          "text": [
            "     rownames  visits  exposure  children  age  income  health1  health2  \\\n",
            "0           1       0       100         1   24  14.500    0.495   -0.854   \n",
            "1           2       1        90         3   19   6.000    0.520   -0.969   \n",
            "2           3       0       106         4   17   8.377   -1.227    0.317   \n",
            "3           4       0       114         2   29   6.000   -1.524    0.457   \n",
            "4           5      11       115         1   26   8.500    0.173   -0.599   \n",
            "..        ...     ...       ...       ...  ...     ...      ...      ...   \n",
            "991       992       0       106         0   65   8.500   -2.264    0.347   \n",
            "992       993       1       107         0   90   9.660    1.532    0.455   \n",
            "993       994      10       116         1   70   6.000    2.660   -0.723   \n",
            "994       995       3       118         0   73   6.000    0.813    0.056   \n",
            "995       996       0       115         2   71  10.444   -2.113    0.236   \n",
            "\n",
            "     access married  gender ethnicity  school enroll program  \n",
            "0      0.50      no  female      cauc      13    yes    afdc  \n",
            "1      0.17      no  female      cauc      11    yes    afdc  \n",
            "2      0.42      no  female      cauc      12    yes    afdc  \n",
            "3      0.33      no  female      cauc      12    yes    afdc  \n",
            "4      0.67      no  female      cauc      16    yes    afdc  \n",
            "..      ...     ...     ...       ...     ...    ...     ...  \n",
            "991    0.33     yes    male      cauc       8     no     ssi  \n",
            "992    0.50     yes    male      cauc       0     no     ssi  \n",
            "993    0.17      no  female      cauc       8     no     ssi  \n",
            "994    0.17      no  female      cauc      12     no     ssi  \n",
            "995    0.42     yes    male     other      14     no     ssi  \n",
            "\n",
            "[996 rows x 15 columns]\n"
          ]
        }
      ]
    },
    {
      "cell_type": "code",
      "source": [],
      "metadata": {
        "id": "Dtzdci0mmcey"
      },
      "execution_count": null,
      "outputs": []
    }
  ]
}